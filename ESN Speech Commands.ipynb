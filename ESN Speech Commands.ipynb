{
 "cells": [
  {
   "cell_type": "code",
   "execution_count": null,
   "metadata": {
    "collapsed": false
   },
   "outputs": [],
   "source": [
    "from __future__ import division\n",
    "import glob\n",
    "import os\n",
    "import numpy as np\n",
    "import matplotlib.pyplot as plt\n",
    "from scipy.io import loadmat\n",
    "from scipy.linalg import eig\n",
    "from sklearn.linear_model import Ridge\n",
    "%matplotlib inline"
   ]
  },
  {
   "cell_type": "code",
   "execution_count": null,
   "metadata": {
    "collapsed": false
   },
   "outputs": [],
   "source": [
    "#Load speech commands data from dir\n",
    "\n",
    "rootDir = 'Lyon_Speech_Commands\\*'\n",
    "paths = glob.glob(rootDir)\n",
    "\n",
    "data = []\n",
    "\n",
    "for n,i in enumerate(paths):\n",
    "    print 'loading ' + paths[n][21:]\n",
    "    block = []\n",
    "    files = glob.glob(i + '\\*')\n",
    "    \n",
    "    for j in files:\n",
    "        X = np.loadtxt(j)\n",
    "        block.append(X)\n",
    "        \n",
    "    data.append(block)"
   ]
  },
  {
   "cell_type": "code",
   "execution_count": null,
   "metadata": {
    "collapsed": false
   },
   "outputs": [],
   "source": [
    "# generate the ESN reservoir weights\n",
    "a = 0.3 # leaking rate\n",
    "\n",
    "# set input weights and scaling parameter\n",
    "W_in = 1 * (np.random.rand(2000, 31)-0.5)\n",
    "\n",
    "# set reservoir weights\n",
    "W = (np.random.rand(2000, 2000)-0.5)\n",
    "\n",
    "# set spectral radius parameter\n",
    "rhoW = max(abs(eig(W)[0]))\n",
    "W *= 1.25 / rhoW"
   ]
  },
  {
   "cell_type": "code",
   "execution_count": null,
   "metadata": {
    "collapsed": false
   },
   "outputs": [],
   "source": [
    "#Simulate the reservoir\n",
    "\n",
    "#C are integrated reservoir states, T are targets\n",
    "C = []\n",
    "T = []\n",
    "\n",
    "#randomly pick category and data point\n",
    "for itr in xrange(5000):\n",
    "    R = []\n",
    "    r = np.zeros(2000)\n",
    "    ctg = np.random.randint(1, 30)\n",
    "    rnd = np.random.randint(0,1500)\n",
    "    \n",
    "    #run the reservoir with the current data point\n",
    "    for t in xrange(np.shape(data[ctg][rnd])[1]):\n",
    "        x = data[ctg][rnd][:,t]\n",
    "        r = (1-a)*r + a*np.tanh(np.dot(W_in, x) + np.dot(W, r))\n",
    "        R.append(r)\n",
    "        \n",
    "    #integrate the reservoir state over time\n",
    "    R_int = np.sum(R, axis=0)\n",
    "    \n",
    "    #add reservoir state and target to C\n",
    "    C.append(R_int)\n",
    "    T.append(ctg)\n",
    "    \n",
    "    if itr%100 == 0:\n",
    "        print 'iteration number: ' + str(itr)"
   ]
  },
  {
   "cell_type": "code",
   "execution_count": null,
   "metadata": {
    "collapsed": false
   },
   "outputs": [],
   "source": [
    "#format targets to 1-hot encoding\n",
    "Targets = np.zeros((len(T), 31))\n",
    "\n",
    "for i, vec in enumerate(Targets):\n",
    "    Targets[i][T[i]] = 1\n",
    "    \n",
    "print Targets[0]\n",
    "print Targets[-1]\n",
    "print Targets[200]"
   ]
  },
  {
   "cell_type": "code",
   "execution_count": null,
   "metadata": {
    "collapsed": false
   },
   "outputs": [],
   "source": [
    "#Train ridge regression model\n",
    "\n",
    "clf = Ridge(alpha = 0.5)\n",
    "clf.fit(C, Targets)"
   ]
  },
  {
   "cell_type": "code",
   "execution_count": null,
   "metadata": {
    "collapsed": false
   },
   "outputs": [],
   "source": [
    "#run reservoir on validation data\n",
    "\n",
    "C = []\n",
    "T = []\n",
    "r = np.zeros(2000)\n",
    "\n",
    "for itr in xrange(500):\n",
    "    R = []\n",
    "    ctg = np.random.randint(1, 30)\n",
    "    rnd = np.random.randint(1500,1700)\n",
    "    \n",
    "    for t in xrange(np.shape(data[ctg][rnd])[1]):\n",
    "        x = data[ctg][rnd][:,t]\n",
    "        r = (1-a)*r + a*np.tanh(np.dot(W_in, x) + np.dot(W, r))\n",
    "        R.append(r)\n",
    "        \n",
    "    R = np.array(R)        \n",
    "    R_int = np.sum(R, axis=0)\n",
    "    C.append(R_int)\n",
    "    T.append(ctg)"
   ]
  },
  {
   "cell_type": "code",
   "execution_count": null,
   "metadata": {
    "collapsed": true
   },
   "outputs": [],
   "source": [
    "Targets = np.zeros((len(T), 31))\n",
    "\n",
    "for i, vec in enumerate(Targets):\n",
    "    Targets[i][T[i]] = 1"
   ]
  },
  {
   "cell_type": "code",
   "execution_count": null,
   "metadata": {
    "collapsed": false
   },
   "outputs": [],
   "source": [
    "#determine accuracy\n",
    "score = 0\n",
    "for i,n in enumerate(C):\n",
    "    y_pred = clf.predict(C[i].reshape(1,-1))\n",
    "    y = np.argmax(y_pred)\n",
    "    if y == np.argmax(Targets[i]):\n",
    "        score += 1\n",
    "\n",
    "print len(C)\n",
    "print score/len(C)"
   ]
  },
  {
   "cell_type": "code",
   "execution_count": null,
   "metadata": {
    "collapsed": true
   },
   "outputs": [],
   "source": []
  }
 ],
 "metadata": {
  "kernelspec": {
   "display_name": "Python 2",
   "language": "python",
   "name": "python2"
  },
  "language_info": {
   "codemirror_mode": {
    "name": "ipython",
    "version": 2
   },
   "file_extension": ".py",
   "mimetype": "text/x-python",
   "name": "python",
   "nbconvert_exporter": "python",
   "pygments_lexer": "ipython2",
   "version": "2.7.13"
  }
 },
 "nbformat": 4,
 "nbformat_minor": 0
}
